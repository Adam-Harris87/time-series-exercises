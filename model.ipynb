{
 "cells": [
  {
   "cell_type": "code",
   "execution_count": 178,
   "id": "69ca52ad",
   "metadata": {},
   "outputs": [],
   "source": [
    "import numpy as np\n",
    "import pandas as pd\n",
    "import statsmodels.api as sm\n",
    "import matplotlib.pyplot as plt\n",
    "from sklearn.metrics import mean_squared_error\n",
    "from statsmodels.tsa.api import Holt, ExponentialSmoothing"
   ]
  },
  {
   "cell_type": "markdown",
   "id": "9246cbc2",
   "metadata": {},
   "source": [
    "# Acquire"
   ]
  },
  {
   "cell_type": "code",
   "execution_count": 3,
   "id": "78800713",
   "metadata": {},
   "outputs": [],
   "source": [
    "invoices = pd.read_csv('saas.csv')"
   ]
  },
  {
   "cell_type": "code",
   "execution_count": 4,
   "id": "ac372cd6",
   "metadata": {},
   "outputs": [
    {
     "data": {
      "text/html": [
       "<div>\n",
       "<style scoped>\n",
       "    .dataframe tbody tr th:only-of-type {\n",
       "        vertical-align: middle;\n",
       "    }\n",
       "\n",
       "    .dataframe tbody tr th {\n",
       "        vertical-align: top;\n",
       "    }\n",
       "\n",
       "    .dataframe thead th {\n",
       "        text-align: right;\n",
       "    }\n",
       "</style>\n",
       "<table border=\"1\" class=\"dataframe\">\n",
       "  <thead>\n",
       "    <tr style=\"text-align: right;\">\n",
       "      <th></th>\n",
       "      <th>Month_Invoiced</th>\n",
       "      <th>Customer_Id</th>\n",
       "      <th>Invoice_Id</th>\n",
       "      <th>Subscription_Type</th>\n",
       "      <th>Amount</th>\n",
       "    </tr>\n",
       "  </thead>\n",
       "  <tbody>\n",
       "    <tr>\n",
       "      <th>0</th>\n",
       "      <td>2014-01-31</td>\n",
       "      <td>1000000</td>\n",
       "      <td>5000000</td>\n",
       "      <td>0.0</td>\n",
       "      <td>0.0</td>\n",
       "    </tr>\n",
       "    <tr>\n",
       "      <th>1</th>\n",
       "      <td>2014-01-31</td>\n",
       "      <td>1000001</td>\n",
       "      <td>5000001</td>\n",
       "      <td>2.0</td>\n",
       "      <td>10.0</td>\n",
       "    </tr>\n",
       "    <tr>\n",
       "      <th>2</th>\n",
       "      <td>2014-01-31</td>\n",
       "      <td>1000002</td>\n",
       "      <td>5000002</td>\n",
       "      <td>0.0</td>\n",
       "      <td>0.0</td>\n",
       "    </tr>\n",
       "    <tr>\n",
       "      <th>3</th>\n",
       "      <td>2014-01-31</td>\n",
       "      <td>1000003</td>\n",
       "      <td>5000003</td>\n",
       "      <td>0.0</td>\n",
       "      <td>0.0</td>\n",
       "    </tr>\n",
       "    <tr>\n",
       "      <th>4</th>\n",
       "      <td>2014-01-31</td>\n",
       "      <td>1000004</td>\n",
       "      <td>5000004</td>\n",
       "      <td>1.0</td>\n",
       "      <td>5.0</td>\n",
       "    </tr>\n",
       "  </tbody>\n",
       "</table>\n",
       "</div>"
      ],
      "text/plain": [
       "  Month_Invoiced  Customer_Id  Invoice_Id  Subscription_Type  Amount\n",
       "0     2014-01-31      1000000     5000000                0.0     0.0\n",
       "1     2014-01-31      1000001     5000001                2.0    10.0\n",
       "2     2014-01-31      1000002     5000002                0.0     0.0\n",
       "3     2014-01-31      1000003     5000003                0.0     0.0\n",
       "4     2014-01-31      1000004     5000004                1.0     5.0"
      ]
     },
     "execution_count": 4,
     "metadata": {},
     "output_type": "execute_result"
    }
   ],
   "source": [
    "invoices.head()"
   ]
  },
  {
   "cell_type": "markdown",
   "id": "56fbf985",
   "metadata": {},
   "source": [
    "# Prepare"
   ]
  },
  {
   "cell_type": "code",
   "execution_count": 6,
   "id": "d8b239cf",
   "metadata": {},
   "outputs": [],
   "source": [
    "invoices.columns = [col.lower() for col in invoices]"
   ]
  },
  {
   "cell_type": "code",
   "execution_count": 8,
   "id": "35b79c38",
   "metadata": {},
   "outputs": [
    {
     "name": "stdout",
     "output_type": "stream",
     "text": [
      "<class 'pandas.core.frame.DataFrame'>\n",
      "RangeIndex: 790458 entries, 0 to 790457\n",
      "Data columns (total 5 columns):\n",
      " #   Column             Non-Null Count   Dtype  \n",
      "---  ------             --------------   -----  \n",
      " 0   month_invoiced     790458 non-null  object \n",
      " 1   customer_id        790458 non-null  int64  \n",
      " 2   invoice_id         790458 non-null  int64  \n",
      " 3   subscription_type  790458 non-null  float64\n",
      " 4   amount             790458 non-null  float64\n",
      "dtypes: float64(2), int64(2), object(1)\n",
      "memory usage: 30.2+ MB\n"
     ]
    }
   ],
   "source": [
    "invoices.info()"
   ]
  },
  {
   "cell_type": "code",
   "execution_count": 9,
   "id": "7dc068e8",
   "metadata": {},
   "outputs": [],
   "source": [
    "invoices.month_invoiced = pd.to_datetime(invoices.month_invoiced)"
   ]
  },
  {
   "cell_type": "code",
   "execution_count": 11,
   "id": "def54dac",
   "metadata": {},
   "outputs": [
    {
     "name": "stdout",
     "output_type": "stream",
     "text": [
      "<class 'pandas.core.frame.DataFrame'>\n",
      "RangeIndex: 790458 entries, 0 to 790457\n",
      "Data columns (total 5 columns):\n",
      " #   Column             Non-Null Count   Dtype         \n",
      "---  ------             --------------   -----         \n",
      " 0   month_invoiced     790458 non-null  datetime64[ns]\n",
      " 1   customer_id        790458 non-null  int64         \n",
      " 2   invoice_id         790458 non-null  int64         \n",
      " 3   subscription_type  790458 non-null  float64       \n",
      " 4   amount             790458 non-null  float64       \n",
      "dtypes: datetime64[ns](1), float64(2), int64(2)\n",
      "memory usage: 30.2 MB\n"
     ]
    }
   ],
   "source": [
    "invoices.info()"
   ]
  },
  {
   "cell_type": "code",
   "execution_count": 14,
   "id": "20e9a43a",
   "metadata": {},
   "outputs": [],
   "source": [
    "invoices = invoices.set_index('month_invoiced')"
   ]
  },
  {
   "cell_type": "code",
   "execution_count": 15,
   "id": "878bce17",
   "metadata": {},
   "outputs": [
    {
     "data": {
      "text/html": [
       "<div>\n",
       "<style scoped>\n",
       "    .dataframe tbody tr th:only-of-type {\n",
       "        vertical-align: middle;\n",
       "    }\n",
       "\n",
       "    .dataframe tbody tr th {\n",
       "        vertical-align: top;\n",
       "    }\n",
       "\n",
       "    .dataframe thead th {\n",
       "        text-align: right;\n",
       "    }\n",
       "</style>\n",
       "<table border=\"1\" class=\"dataframe\">\n",
       "  <thead>\n",
       "    <tr style=\"text-align: right;\">\n",
       "      <th></th>\n",
       "      <th>customer_id</th>\n",
       "      <th>invoice_id</th>\n",
       "      <th>subscription_type</th>\n",
       "      <th>amount</th>\n",
       "    </tr>\n",
       "    <tr>\n",
       "      <th>month_invoiced</th>\n",
       "      <th></th>\n",
       "      <th></th>\n",
       "      <th></th>\n",
       "      <th></th>\n",
       "    </tr>\n",
       "  </thead>\n",
       "  <tbody>\n",
       "    <tr>\n",
       "      <th>2014-01-31</th>\n",
       "      <td>1000000</td>\n",
       "      <td>5000000</td>\n",
       "      <td>0.0</td>\n",
       "      <td>0.0</td>\n",
       "    </tr>\n",
       "    <tr>\n",
       "      <th>2014-01-31</th>\n",
       "      <td>1000001</td>\n",
       "      <td>5000001</td>\n",
       "      <td>2.0</td>\n",
       "      <td>10.0</td>\n",
       "    </tr>\n",
       "    <tr>\n",
       "      <th>2014-01-31</th>\n",
       "      <td>1000002</td>\n",
       "      <td>5000002</td>\n",
       "      <td>0.0</td>\n",
       "      <td>0.0</td>\n",
       "    </tr>\n",
       "    <tr>\n",
       "      <th>2014-01-31</th>\n",
       "      <td>1000003</td>\n",
       "      <td>5000003</td>\n",
       "      <td>0.0</td>\n",
       "      <td>0.0</td>\n",
       "    </tr>\n",
       "    <tr>\n",
       "      <th>2014-01-31</th>\n",
       "      <td>1000004</td>\n",
       "      <td>5000004</td>\n",
       "      <td>1.0</td>\n",
       "      <td>5.0</td>\n",
       "    </tr>\n",
       "  </tbody>\n",
       "</table>\n",
       "</div>"
      ],
      "text/plain": [
       "                customer_id  invoice_id  subscription_type  amount\n",
       "month_invoiced                                                    \n",
       "2014-01-31          1000000     5000000                0.0     0.0\n",
       "2014-01-31          1000001     5000001                2.0    10.0\n",
       "2014-01-31          1000002     5000002                0.0     0.0\n",
       "2014-01-31          1000003     5000003                0.0     0.0\n",
       "2014-01-31          1000004     5000004                1.0     5.0"
      ]
     },
     "execution_count": 15,
     "metadata": {},
     "output_type": "execute_result"
    }
   ],
   "source": [
    "invoices.head()"
   ]
  },
  {
   "cell_type": "markdown",
   "id": "27e4b211",
   "metadata": {},
   "source": [
    "# Explore"
   ]
  },
  {
   "cell_type": "code",
   "execution_count": 24,
   "id": "11d859f1",
   "metadata": {},
   "outputs": [
    {
     "data": {
      "text/plain": [
       "(Timestamp('2014-01-31 00:00:00'), Timestamp('2017-12-31 00:00:00'))"
      ]
     },
     "execution_count": 24,
     "metadata": {},
     "output_type": "execute_result"
    }
   ],
   "source": [
    "invoices.index.min(), invoices.index.max()"
   ]
  },
  {
   "cell_type": "code",
   "execution_count": 25,
   "id": "7b145c26",
   "metadata": {},
   "outputs": [
    {
     "data": {
      "text/plain": [
       "customer_id          0\n",
       "invoice_id           0\n",
       "subscription_type    0\n",
       "amount               0\n",
       "dtype: int64"
      ]
     },
     "execution_count": 25,
     "metadata": {},
     "output_type": "execute_result"
    }
   ],
   "source": [
    "invoices.isna().sum()"
   ]
  },
  {
   "cell_type": "code",
   "execution_count": 26,
   "id": "f91697b4",
   "metadata": {},
   "outputs": [
    {
     "data": {
      "text/plain": [
       "0.0    496410\n",
       "1.0    178212\n",
       "2.0     70706\n",
       "3.0     26474\n",
       "4.0     18656\n",
       "Name: subscription_type, dtype: int64"
      ]
     },
     "execution_count": 26,
     "metadata": {},
     "output_type": "execute_result"
    }
   ],
   "source": [
    "invoices.subscription_type.value_counts()"
   ]
  },
  {
   "cell_type": "code",
   "execution_count": 27,
   "id": "1d85ad5a",
   "metadata": {},
   "outputs": [
    {
     "data": {
      "text/plain": [
       "0.0     496410\n",
       "5.0     178212\n",
       "10.0     70706\n",
       "15.0     26474\n",
       "20.0     18656\n",
       "Name: amount, dtype: int64"
      ]
     },
     "execution_count": 27,
     "metadata": {},
     "output_type": "execute_result"
    }
   ],
   "source": [
    "invoices.amount.value_counts()"
   ]
  },
  {
   "cell_type": "code",
   "execution_count": 31,
   "id": "8331b6c7",
   "metadata": {},
   "outputs": [
    {
     "data": {
      "text/plain": [
       "1014700    48\n",
       "1008258    48\n",
       "1008248    48\n",
       "1008249    48\n",
       "1008251    48\n",
       "           ..\n",
       "1004048     1\n",
       "1025794     1\n",
       "1023982     1\n",
       "1010805     1\n",
       "1029399     1\n",
       "Name: customer_id, Length: 29400, dtype: int64"
      ]
     },
     "execution_count": 31,
     "metadata": {},
     "output_type": "execute_result"
    }
   ],
   "source": [
    "invoices.customer_id.value_counts()"
   ]
  },
  {
   "cell_type": "code",
   "execution_count": 36,
   "id": "5f96afbb",
   "metadata": {},
   "outputs": [
    {
     "data": {
      "text/plain": [
       "<AxesSubplot:xlabel='month_invoiced'>"
      ]
     },
     "execution_count": 36,
     "metadata": {},
     "output_type": "execute_result"
    },
    {
     "data": {
      "image/png": "[encoded data removed]",
      "text/plain": [
       "<Figure size 640x480 with 1 Axes>"
      ]
     },
     "metadata": {},
     "output_type": "display_data"
    }
   ],
   "source": [
    "invoices[invoices.customer_id == 1000000].amount.plot()"
   ]
  },
  {
   "cell_type": "code",
   "execution_count": 40,
   "id": "816107ed",
   "metadata": {},
   "outputs": [],
   "source": [
    "monthly_totals = invoices.resample('M')['subscription_type','amount'].sum()"
   ]
  },
  {
   "cell_type": "code",
   "execution_count": 46,
   "id": "2321bf47",
   "metadata": {},
   "outputs": [
    {
     "data": {
      "image/png": "[encoded data removed]",
      "text/plain": [
       "<Figure size 640x480 with 1 Axes>"
      ]
     },
     "metadata": {},
     "output_type": "display_data"
    }
   ],
   "source": [
    "monthly_totals.subscription_type.plot(title='subscription totals by month');"
   ]
  },
  {
   "cell_type": "code",
   "execution_count": 51,
   "id": "8a655c9d",
   "metadata": {},
   "outputs": [
    {
     "data": {
      "image/png": "[encoded data removed]",
      "text/plain": [
       "<Figure size 640x480 with 1 Axes>"
      ]
     },
     "metadata": {},
     "output_type": "display_data"
    }
   ],
   "source": [
    "monthly_totals.amount.plot(title='Total Income Amount by Month');"
   ]
  },
  {
   "cell_type": "code",
   "execution_count": 61,
   "id": "9d578c50",
   "metadata": {},
   "outputs": [],
   "source": [
    "monthly_avg = invoices.resample('M')['subscription_type','amount'].mean()"
   ]
  },
  {
   "cell_type": "code",
   "execution_count": 50,
   "id": "498a7617",
   "metadata": {},
   "outputs": [
    {
     "data": {
      "image/png": "[encoded data removed]",
      "text/plain": [
       "<Figure size 640x480 with 1 Axes>"
      ]
     },
     "metadata": {},
     "output_type": "display_data"
    }
   ],
   "source": [
    "monthly_avg.subscription_type.plot(title='subscription averages by month');"
   ]
  },
  {
   "cell_type": "code",
   "execution_count": 52,
   "id": "de5ad9e3",
   "metadata": {},
   "outputs": [
    {
     "data": {
      "image/png": "[encoded data removed]",
      "text/plain": [
       "<Figure size 640x480 with 1 Axes>"
      ]
     },
     "metadata": {},
     "output_type": "display_data"
    }
   ],
   "source": [
    "monthly_totals.amount.plot(title='Average Income Amount by Month');"
   ]
  },
  {
   "cell_type": "code",
   "execution_count": 60,
   "id": "98165d96",
   "metadata": {},
   "outputs": [],
   "source": [
    "yearly_avg = invoices.resample('Y')['subscription_type','amount'].mean()"
   ]
  },
  {
   "cell_type": "code",
   "execution_count": 62,
   "id": "0785eb25",
   "metadata": {},
   "outputs": [
    {
     "data": {
      "image/png": "[encoded data removed]",
      "text/plain": [
       "<Figure size 640x480 with 1 Axes>"
      ]
     },
     "metadata": {},
     "output_type": "display_data"
    }
   ],
   "source": [
    "yearly_avg.subscription_type.plot(title='subscription averages by Year');"
   ]
  },
  {
   "cell_type": "markdown",
   "id": "85eed842",
   "metadata": {},
   "source": [
    "## 1. Split data (train/test) and resample by any period, except daily, and aggregate using the sum."
   ]
  },
  {
   "cell_type": "code",
   "execution_count": 67,
   "id": "16e856f2",
   "metadata": {},
   "outputs": [
    {
     "data": {
      "text/plain": [
       "(790458, 4)"
      ]
     },
     "execution_count": 67,
     "metadata": {},
     "output_type": "execute_result"
    }
   ],
   "source": [
    "invoices.shape"
   ]
  },
  {
   "cell_type": "code",
   "execution_count": 101,
   "id": "2f7f9924",
   "metadata": {},
   "outputs": [],
   "source": [
    "resampled = invoices.resample('M').mean()"
   ]
  },
  {
   "cell_type": "code",
   "execution_count": 102,
   "id": "de47d4b9",
   "metadata": {},
   "outputs": [],
   "source": [
    "train_split_index = round(len(resampled) * .5)\n",
    "val_split_index = round(len(resampled) * .8)\n",
    "train = resampled[:train_split_index].drop(\n",
    "    columns=['customer_id', 'invoice_id'])\n",
    "validate =resampled[train_split_index:val_split_index].drop(\n",
    "    columns=['customer_id', 'invoice_id'])\n",
    "test = resampled[val_split_index:].drop(\n",
    "    columns=['customer_id', 'invoice_id'])"
   ]
  },
  {
   "cell_type": "code",
   "execution_count": 95,
   "id": "531a11c0",
   "metadata": {},
   "outputs": [
    {
     "data": {
      "text/html": [
       "<div>\n",
       "<style scoped>\n",
       "    .dataframe tbody tr th:only-of-type {\n",
       "        vertical-align: middle;\n",
       "    }\n",
       "\n",
       "    .dataframe tbody tr th {\n",
       "        vertical-align: top;\n",
       "    }\n",
       "\n",
       "    .dataframe thead th {\n",
       "        text-align: right;\n",
       "    }\n",
       "</style>\n",
       "<table border=\"1\" class=\"dataframe\">\n",
       "  <thead>\n",
       "    <tr style=\"text-align: right;\">\n",
       "      <th></th>\n",
       "      <th>subscription_type</th>\n",
       "      <th>amount</th>\n",
       "    </tr>\n",
       "    <tr>\n",
       "      <th>month_invoiced</th>\n",
       "      <th></th>\n",
       "      <th></th>\n",
       "    </tr>\n",
       "  </thead>\n",
       "  <tbody>\n",
       "    <tr>\n",
       "      <th>2014-01-31</th>\n",
       "      <td>0.358500</td>\n",
       "      <td>1.792500</td>\n",
       "    </tr>\n",
       "    <tr>\n",
       "      <th>2014-02-28</th>\n",
       "      <td>0.375657</td>\n",
       "      <td>1.878283</td>\n",
       "    </tr>\n",
       "    <tr>\n",
       "      <th>2014-03-31</th>\n",
       "      <td>0.390785</td>\n",
       "      <td>1.953926</td>\n",
       "    </tr>\n",
       "    <tr>\n",
       "      <th>2014-04-30</th>\n",
       "      <td>0.404420</td>\n",
       "      <td>2.022099</td>\n",
       "    </tr>\n",
       "    <tr>\n",
       "      <th>2014-05-31</th>\n",
       "      <td>0.419905</td>\n",
       "      <td>2.099527</td>\n",
       "    </tr>\n",
       "    <tr>\n",
       "      <th>2014-06-30</th>\n",
       "      <td>0.433396</td>\n",
       "      <td>2.166982</td>\n",
       "    </tr>\n",
       "    <tr>\n",
       "      <th>2014-07-31</th>\n",
       "      <td>0.447403</td>\n",
       "      <td>2.237017</td>\n",
       "    </tr>\n",
       "    <tr>\n",
       "      <th>2014-08-31</th>\n",
       "      <td>0.462832</td>\n",
       "      <td>2.314160</td>\n",
       "    </tr>\n",
       "    <tr>\n",
       "      <th>2014-09-30</th>\n",
       "      <td>0.476641</td>\n",
       "      <td>2.383205</td>\n",
       "    </tr>\n",
       "    <tr>\n",
       "      <th>2014-10-31</th>\n",
       "      <td>0.490144</td>\n",
       "      <td>2.450718</td>\n",
       "    </tr>\n",
       "    <tr>\n",
       "      <th>2014-11-30</th>\n",
       "      <td>0.502012</td>\n",
       "      <td>2.510058</td>\n",
       "    </tr>\n",
       "    <tr>\n",
       "      <th>2014-12-31</th>\n",
       "      <td>0.513559</td>\n",
       "      <td>2.567793</td>\n",
       "    </tr>\n",
       "    <tr>\n",
       "      <th>2015-01-31</th>\n",
       "      <td>0.526614</td>\n",
       "      <td>2.633070</td>\n",
       "    </tr>\n",
       "    <tr>\n",
       "      <th>2015-02-28</th>\n",
       "      <td>0.537557</td>\n",
       "      <td>2.687783</td>\n",
       "    </tr>\n",
       "    <tr>\n",
       "      <th>2015-03-31</th>\n",
       "      <td>0.547918</td>\n",
       "      <td>2.739589</td>\n",
       "    </tr>\n",
       "    <tr>\n",
       "      <th>2015-04-30</th>\n",
       "      <td>0.558932</td>\n",
       "      <td>2.794659</td>\n",
       "    </tr>\n",
       "    <tr>\n",
       "      <th>2015-05-31</th>\n",
       "      <td>0.569231</td>\n",
       "      <td>2.846154</td>\n",
       "    </tr>\n",
       "    <tr>\n",
       "      <th>2015-06-30</th>\n",
       "      <td>0.579144</td>\n",
       "      <td>2.895722</td>\n",
       "    </tr>\n",
       "    <tr>\n",
       "      <th>2015-07-31</th>\n",
       "      <td>0.591175</td>\n",
       "      <td>2.955873</td>\n",
       "    </tr>\n",
       "    <tr>\n",
       "      <th>2015-08-31</th>\n",
       "      <td>0.600523</td>\n",
       "      <td>3.002616</td>\n",
       "    </tr>\n",
       "    <tr>\n",
       "      <th>2015-09-30</th>\n",
       "      <td>0.611661</td>\n",
       "      <td>3.058305</td>\n",
       "    </tr>\n",
       "    <tr>\n",
       "      <th>2015-10-31</th>\n",
       "      <td>0.648694</td>\n",
       "      <td>3.243470</td>\n",
       "    </tr>\n",
       "  </tbody>\n",
       "</table>\n",
       "</div>"
      ],
      "text/plain": [
       "                subscription_type    amount\n",
       "month_invoiced                             \n",
       "2014-01-31               0.358500  1.792500\n",
       "2014-02-28               0.375657  1.878283\n",
       "2014-03-31               0.390785  1.953926\n",
       "2014-04-30               0.404420  2.022099\n",
       "2014-05-31               0.419905  2.099527\n",
       "2014-06-30               0.433396  2.166982\n",
       "2014-07-31               0.447403  2.237017\n",
       "2014-08-31               0.462832  2.314160\n",
       "2014-09-30               0.476641  2.383205\n",
       "2014-10-31               0.490144  2.450718\n",
       "2014-11-30               0.502012  2.510058\n",
       "2014-12-31               0.513559  2.567793\n",
       "2015-01-31               0.526614  2.633070\n",
       "2015-02-28               0.537557  2.687783\n",
       "2015-03-31               0.547918  2.739589\n",
       "2015-04-30               0.558932  2.794659\n",
       "2015-05-31               0.569231  2.846154\n",
       "2015-06-30               0.579144  2.895722\n",
       "2015-07-31               0.591175  2.955873\n",
       "2015-08-31               0.600523  3.002616\n",
       "2015-09-30               0.611661  3.058305\n",
       "2015-10-31               0.648694  3.243470"
      ]
     },
     "execution_count": 95,
     "metadata": {},
     "output_type": "execute_result"
    }
   ],
   "source": [
    "train"
   ]
  },
  {
   "cell_type": "code",
   "execution_count": 103,
   "id": "5d93c1cc",
   "metadata": {},
   "outputs": [
    {
     "data": {
      "text/plain": [
       "(24, 14, 10, 48)"
      ]
     },
     "execution_count": 103,
     "metadata": {},
     "output_type": "execute_result"
    }
   ],
   "source": [
    "len(train), len(validate), len(test), len(invoices.resample('M').mean())"
   ]
  },
  {
   "cell_type": "code",
   "execution_count": 104,
   "id": "7cec7b32",
   "metadata": {},
   "outputs": [
    {
     "data": {
      "text/plain": [
       "True"
      ]
     },
     "execution_count": 104,
     "metadata": {},
     "output_type": "execute_result"
    }
   ],
   "source": [
    "len(resampled) == len(train) + len(validate) + len(test)"
   ]
  },
  {
   "cell_type": "code",
   "execution_count": 123,
   "id": "5e9d143d",
   "metadata": {},
   "outputs": [
    {
     "data": {
      "text/html": [
       "<div>\n",
       "<style scoped>\n",
       "    .dataframe tbody tr th:only-of-type {\n",
       "        vertical-align: middle;\n",
       "    }\n",
       "\n",
       "    .dataframe tbody tr th {\n",
       "        vertical-align: top;\n",
       "    }\n",
       "\n",
       "    .dataframe thead th {\n",
       "        text-align: right;\n",
       "    }\n",
       "</style>\n",
       "<table border=\"1\" class=\"dataframe\">\n",
       "  <thead>\n",
       "    <tr style=\"text-align: right;\">\n",
       "      <th></th>\n",
       "      <th>subscription_type</th>\n",
       "      <th>amount</th>\n",
       "    </tr>\n",
       "    <tr>\n",
       "      <th>month_invoiced</th>\n",
       "      <th></th>\n",
       "      <th></th>\n",
       "    </tr>\n",
       "  </thead>\n",
       "  <tbody>\n",
       "    <tr>\n",
       "      <th>2015-12-31</th>\n",
       "      <td>0.633206</td>\n",
       "      <td>3.166031</td>\n",
       "    </tr>\n",
       "    <tr>\n",
       "      <th>2016-01-31</th>\n",
       "      <td>0.643724</td>\n",
       "      <td>3.218622</td>\n",
       "    </tr>\n",
       "    <tr>\n",
       "      <th>2017-02-28</th>\n",
       "      <td>0.725053</td>\n",
       "      <td>3.625263</td>\n",
       "    </tr>\n",
       "    <tr>\n",
       "      <th>2017-03-31</th>\n",
       "      <td>0.729356</td>\n",
       "      <td>3.646778</td>\n",
       "    </tr>\n",
       "  </tbody>\n",
       "</table>\n",
       "</div>"
      ],
      "text/plain": [
       "                subscription_type    amount\n",
       "month_invoiced                             \n",
       "2015-12-31               0.633206  3.166031\n",
       "2016-01-31               0.643724  3.218622\n",
       "2017-02-28               0.725053  3.625263\n",
       "2017-03-31               0.729356  3.646778"
      ]
     },
     "execution_count": 123,
     "metadata": {},
     "output_type": "execute_result"
    }
   ],
   "source": [
    "pd.concat([train.tail(1), validate.head(1), validate.tail(1), test.head(1)])"
   ]
  },
  {
   "cell_type": "code",
   "execution_count": 71,
   "id": "0e215d32",
   "metadata": {},
   "outputs": [],
   "source": [
    "y = train.amount.resample('M').mean()\n",
    "results_amount = sm.tsa.seasonal_decompose(y)"
   ]
  },
  {
   "cell_type": "code",
   "execution_count": 73,
   "id": "65edf127",
   "metadata": {},
   "outputs": [],
   "source": [
    "decomposition = pd.DataFrame({\n",
    "    'y': results_amount.observed,\n",
    "    'trend': results_amount.trend,\n",
    "    'seasonal': results_amount.seasonal,\n",
    "    'residual': results_amount.resid})"
   ]
  },
  {
   "cell_type": "code",
   "execution_count": 74,
   "id": "d999dec5",
   "metadata": {},
   "outputs": [
    {
     "data": {
      "text/html": [
       "<div>\n",
       "<style scoped>\n",
       "    .dataframe tbody tr th:only-of-type {\n",
       "        vertical-align: middle;\n",
       "    }\n",
       "\n",
       "    .dataframe tbody tr th {\n",
       "        vertical-align: top;\n",
       "    }\n",
       "\n",
       "    .dataframe thead th {\n",
       "        text-align: right;\n",
       "    }\n",
       "</style>\n",
       "<table border=\"1\" class=\"dataframe\">\n",
       "  <thead>\n",
       "    <tr style=\"text-align: right;\">\n",
       "      <th></th>\n",
       "      <th>y</th>\n",
       "      <th>trend</th>\n",
       "      <th>seasonal</th>\n",
       "      <th>residual</th>\n",
       "    </tr>\n",
       "    <tr>\n",
       "      <th>month_invoiced</th>\n",
       "      <th></th>\n",
       "      <th></th>\n",
       "      <th></th>\n",
       "      <th></th>\n",
       "    </tr>\n",
       "  </thead>\n",
       "  <tbody>\n",
       "    <tr>\n",
       "      <th>2014-01-31</th>\n",
       "      <td>1.792500</td>\n",
       "      <td>NaN</td>\n",
       "      <td>0.008070</td>\n",
       "      <td>NaN</td>\n",
       "    </tr>\n",
       "    <tr>\n",
       "      <th>2014-02-28</th>\n",
       "      <td>1.878283</td>\n",
       "      <td>NaN</td>\n",
       "      <td>-0.000238</td>\n",
       "      <td>NaN</td>\n",
       "    </tr>\n",
       "    <tr>\n",
       "      <th>2014-03-31</th>\n",
       "      <td>1.953926</td>\n",
       "      <td>NaN</td>\n",
       "      <td>-0.006652</td>\n",
       "      <td>NaN</td>\n",
       "    </tr>\n",
       "    <tr>\n",
       "      <th>2014-04-30</th>\n",
       "      <td>2.022099</td>\n",
       "      <td>NaN</td>\n",
       "      <td>-0.005745</td>\n",
       "      <td>NaN</td>\n",
       "    </tr>\n",
       "    <tr>\n",
       "      <th>2014-05-31</th>\n",
       "      <td>2.099527</td>\n",
       "      <td>NaN</td>\n",
       "      <td>-0.009707</td>\n",
       "      <td>NaN</td>\n",
       "    </tr>\n",
       "    <tr>\n",
       "      <th>2014-06-30</th>\n",
       "      <td>2.166982</td>\n",
       "      <td>NaN</td>\n",
       "      <td>-0.011643</td>\n",
       "      <td>NaN</td>\n",
       "    </tr>\n",
       "    <tr>\n",
       "      <th>2014-07-31</th>\n",
       "      <td>2.237017</td>\n",
       "      <td>2.233046</td>\n",
       "      <td>-0.004062</td>\n",
       "      <td>0.008033</td>\n",
       "    </tr>\n",
       "    <tr>\n",
       "      <th>2014-08-31</th>\n",
       "      <td>2.314160</td>\n",
       "      <td>2.301799</td>\n",
       "      <td>0.003472</td>\n",
       "      <td>0.008889</td>\n",
       "    </tr>\n",
       "    <tr>\n",
       "      <th>2014-09-30</th>\n",
       "      <td>2.383205</td>\n",
       "      <td>2.368264</td>\n",
       "      <td>0.009951</td>\n",
       "      <td>0.004990</td>\n",
       "    </tr>\n",
       "    <tr>\n",
       "      <th>2014-10-31</th>\n",
       "      <td>2.450718</td>\n",
       "      <td>2.433190</td>\n",
       "      <td>0.016522</td>\n",
       "      <td>0.001007</td>\n",
       "    </tr>\n",
       "    <tr>\n",
       "      <th>2014-11-30</th>\n",
       "      <td>2.510058</td>\n",
       "      <td>2.496490</td>\n",
       "      <td>0.001483</td>\n",
       "      <td>0.012085</td>\n",
       "    </tr>\n",
       "    <tr>\n",
       "      <th>2014-12-31</th>\n",
       "      <td>2.567793</td>\n",
       "      <td>2.557963</td>\n",
       "      <td>-0.001448</td>\n",
       "      <td>0.011278</td>\n",
       "    </tr>\n",
       "    <tr>\n",
       "      <th>2015-01-31</th>\n",
       "      <td>2.633070</td>\n",
       "      <td>2.618280</td>\n",
       "      <td>0.008070</td>\n",
       "      <td>0.006720</td>\n",
       "    </tr>\n",
       "    <tr>\n",
       "      <th>2015-02-28</th>\n",
       "      <td>2.687783</td>\n",
       "      <td>2.676918</td>\n",
       "      <td>-0.000238</td>\n",
       "      <td>0.011103</td>\n",
       "    </tr>\n",
       "    <tr>\n",
       "      <th>2015-03-31</th>\n",
       "      <td>2.739589</td>\n",
       "      <td>2.733733</td>\n",
       "      <td>-0.006652</td>\n",
       "      <td>0.012509</td>\n",
       "    </tr>\n",
       "    <tr>\n",
       "      <th>2015-04-30</th>\n",
       "      <td>2.794659</td>\n",
       "      <td>2.789432</td>\n",
       "      <td>-0.005745</td>\n",
       "      <td>0.010973</td>\n",
       "    </tr>\n",
       "    <tr>\n",
       "      <th>2015-05-31</th>\n",
       "      <td>2.846154</td>\n",
       "      <td>2.842754</td>\n",
       "      <td>-0.009707</td>\n",
       "      <td>0.013107</td>\n",
       "    </tr>\n",
       "    <tr>\n",
       "      <th>2015-06-30</th>\n",
       "      <td>2.895722</td>\n",
       "      <td>2.893432</td>\n",
       "      <td>-0.011643</td>\n",
       "      <td>0.013934</td>\n",
       "    </tr>\n",
       "    <tr>\n",
       "      <th>2015-07-31</th>\n",
       "      <td>2.955873</td>\n",
       "      <td>2.942756</td>\n",
       "      <td>-0.004062</td>\n",
       "      <td>0.017179</td>\n",
       "    </tr>\n",
       "    <tr>\n",
       "      <th>2015-08-31</th>\n",
       "      <td>3.002616</td>\n",
       "      <td>2.990302</td>\n",
       "      <td>0.003472</td>\n",
       "      <td>0.008842</td>\n",
       "    </tr>\n",
       "    <tr>\n",
       "      <th>2015-09-30</th>\n",
       "      <td>3.058305</td>\n",
       "      <td>3.035612</td>\n",
       "      <td>0.009951</td>\n",
       "      <td>0.012741</td>\n",
       "    </tr>\n",
       "    <tr>\n",
       "      <th>2015-10-31</th>\n",
       "      <td>3.112408</td>\n",
       "      <td>3.079162</td>\n",
       "      <td>0.016522</td>\n",
       "      <td>0.016725</td>\n",
       "    </tr>\n",
       "    <tr>\n",
       "      <th>2015-11-30</th>\n",
       "      <td>3.128089</td>\n",
       "      <td>3.120960</td>\n",
       "      <td>0.001483</td>\n",
       "      <td>0.005646</td>\n",
       "    </tr>\n",
       "    <tr>\n",
       "      <th>2015-12-31</th>\n",
       "      <td>3.166031</td>\n",
       "      <td>3.161027</td>\n",
       "      <td>-0.001448</td>\n",
       "      <td>0.006453</td>\n",
       "    </tr>\n",
       "    <tr>\n",
       "      <th>2016-01-31</th>\n",
       "      <td>3.218622</td>\n",
       "      <td>3.199542</td>\n",
       "      <td>0.008070</td>\n",
       "      <td>0.011011</td>\n",
       "    </tr>\n",
       "    <tr>\n",
       "      <th>2016-02-29</th>\n",
       "      <td>3.243336</td>\n",
       "      <td>3.236947</td>\n",
       "      <td>-0.000238</td>\n",
       "      <td>0.006628</td>\n",
       "    </tr>\n",
       "    <tr>\n",
       "      <th>2016-03-31</th>\n",
       "      <td>3.271469</td>\n",
       "      <td>3.272899</td>\n",
       "      <td>-0.006652</td>\n",
       "      <td>0.005222</td>\n",
       "    </tr>\n",
       "    <tr>\n",
       "      <th>2016-04-30</th>\n",
       "      <td>3.307980</td>\n",
       "      <td>3.306967</td>\n",
       "      <td>-0.005745</td>\n",
       "      <td>0.006759</td>\n",
       "    </tr>\n",
       "    <tr>\n",
       "      <th>2016-05-31</th>\n",
       "      <td>3.335990</td>\n",
       "      <td>3.341072</td>\n",
       "      <td>-0.009707</td>\n",
       "      <td>0.004624</td>\n",
       "    </tr>\n",
       "    <tr>\n",
       "      <th>2016-06-30</th>\n",
       "      <td>3.367478</td>\n",
       "      <td>3.375324</td>\n",
       "      <td>-0.011643</td>\n",
       "      <td>0.003797</td>\n",
       "    </tr>\n",
       "    <tr>\n",
       "      <th>2016-07-31</th>\n",
       "      <td>3.408473</td>\n",
       "      <td>3.411151</td>\n",
       "      <td>-0.004062</td>\n",
       "      <td>0.001385</td>\n",
       "    </tr>\n",
       "    <tr>\n",
       "      <th>2016-08-31</th>\n",
       "      <td>3.447737</td>\n",
       "      <td>NaN</td>\n",
       "      <td>0.003472</td>\n",
       "      <td>NaN</td>\n",
       "    </tr>\n",
       "    <tr>\n",
       "      <th>2016-09-30</th>\n",
       "      <td>3.476050</td>\n",
       "      <td>NaN</td>\n",
       "      <td>0.009951</td>\n",
       "      <td>NaN</td>\n",
       "    </tr>\n",
       "    <tr>\n",
       "      <th>2016-10-31</th>\n",
       "      <td>3.512282</td>\n",
       "      <td>NaN</td>\n",
       "      <td>0.016522</td>\n",
       "      <td>NaN</td>\n",
       "    </tr>\n",
       "    <tr>\n",
       "      <th>2016-11-30</th>\n",
       "      <td>3.546747</td>\n",
       "      <td>NaN</td>\n",
       "      <td>0.001483</td>\n",
       "      <td>NaN</td>\n",
       "    </tr>\n",
       "    <tr>\n",
       "      <th>2016-12-31</th>\n",
       "      <td>3.569420</td>\n",
       "      <td>NaN</td>\n",
       "      <td>-0.001448</td>\n",
       "      <td>NaN</td>\n",
       "    </tr>\n",
       "    <tr>\n",
       "      <th>2017-01-31</th>\n",
       "      <td>3.675072</td>\n",
       "      <td>NaN</td>\n",
       "      <td>0.008070</td>\n",
       "      <td>NaN</td>\n",
       "    </tr>\n",
       "  </tbody>\n",
       "</table>\n",
       "</div>"
      ],
      "text/plain": [
       "                       y     trend  seasonal  residual\n",
       "month_invoiced                                        \n",
       "2014-01-31      1.792500       NaN  0.008070       NaN\n",
       "2014-02-28      1.878283       NaN -0.000238       NaN\n",
       "2014-03-31      1.953926       NaN -0.006652       NaN\n",
       "2014-04-30      2.022099       NaN -0.005745       NaN\n",
       "2014-05-31      2.099527       NaN -0.009707       NaN\n",
       "2014-06-30      2.166982       NaN -0.011643       NaN\n",
       "2014-07-31      2.237017  2.233046 -0.004062  0.008033\n",
       "2014-08-31      2.314160  2.301799  0.003472  0.008889\n",
       "2014-09-30      2.383205  2.368264  0.009951  0.004990\n",
       "2014-10-31      2.450718  2.433190  0.016522  0.001007\n",
       "2014-11-30      2.510058  2.496490  0.001483  0.012085\n",
       "2014-12-31      2.567793  2.557963 -0.001448  0.011278\n",
       "2015-01-31      2.633070  2.618280  0.008070  0.006720\n",
       "2015-02-28      2.687783  2.676918 -0.000238  0.011103\n",
       "2015-03-31      2.739589  2.733733 -0.006652  0.012509\n",
       "2015-04-30      2.794659  2.789432 -0.005745  0.010973\n",
       "2015-05-31      2.846154  2.842754 -0.009707  0.013107\n",
       "2015-06-30      2.895722  2.893432 -0.011643  0.013934\n",
       "2015-07-31      2.955873  2.942756 -0.004062  0.017179\n",
       "2015-08-31      3.002616  2.990302  0.003472  0.008842\n",
       "2015-09-30      3.058305  3.035612  0.009951  0.012741\n",
       "2015-10-31      3.112408  3.079162  0.016522  0.016725\n",
       "2015-11-30      3.128089  3.120960  0.001483  0.005646\n",
       "2015-12-31      3.166031  3.161027 -0.001448  0.006453\n",
       "2016-01-31      3.218622  3.199542  0.008070  0.011011\n",
       "2016-02-29      3.243336  3.236947 -0.000238  0.006628\n",
       "2016-03-31      3.271469  3.272899 -0.006652  0.005222\n",
       "2016-04-30      3.307980  3.306967 -0.005745  0.006759\n",
       "2016-05-31      3.335990  3.341072 -0.009707  0.004624\n",
       "2016-06-30      3.367478  3.375324 -0.011643  0.003797\n",
       "2016-07-31      3.408473  3.411151 -0.004062  0.001385\n",
       "2016-08-31      3.447737       NaN  0.003472       NaN\n",
       "2016-09-30      3.476050       NaN  0.009951       NaN\n",
       "2016-10-31      3.512282       NaN  0.016522       NaN\n",
       "2016-11-30      3.546747       NaN  0.001483       NaN\n",
       "2016-12-31      3.569420       NaN -0.001448       NaN\n",
       "2017-01-31      3.675072       NaN  0.008070       NaN"
      ]
     },
     "execution_count": 74,
     "metadata": {},
     "output_type": "execute_result"
    }
   ],
   "source": [
    "decomposition"
   ]
  },
  {
   "cell_type": "code",
   "execution_count": 75,
   "id": "adc74557",
   "metadata": {},
   "outputs": [
    {
     "data": {
      "text/plain": [
       "<AxesSubplot:xlabel='month_invoiced'>"
      ]
     },
     "execution_count": 75,
     "metadata": {},
     "output_type": "execute_result"
    },
    {
     "data": {
      "image/png": "[encoded data removed]",
      "text/plain": [
       "<Figure size 640x480 with 1 Axes>"
      ]
     },
     "metadata": {},
     "output_type": "display_data"
    }
   ],
   "source": [
    "decomposition.plot()"
   ]
  },
  {
   "cell_type": "markdown",
   "id": "555ccc90",
   "metadata": {},
   "source": [
    "# 2. Forecast, plot and evaluate using each at least 4 of the methods we discussed:\n",
    "- Last Observed Value\n",
    "- Simple Average\n",
    "- Moving Average\n",
    "- Holt's Linear Trend\n",
    "- Holt's Seasonal Trend\n",
    "- Based on previous year/month/etc., this is up to you."
   ]
  },
  {
   "cell_type": "code",
   "execution_count": 132,
   "id": "035627e4",
   "metadata": {},
   "outputs": [],
   "source": [
    "def evaluate(target_var):\n",
    "    '''\n",
    "    This function will take the actual values of the target_var from validate, \n",
    "    and the predicted values stored in yhat_df, \n",
    "    and compute the rmse, rounding to 0 decimal places. \n",
    "    it will return the rmse. \n",
    "    '''\n",
    "    rmse = round(mean_squared_error(validate[target_var], \n",
    "                                    yhat_df[target_var], \n",
    "                                    squared=False), 4)\n",
    "    return rmse\n",
    "\n",
    "def plot_and_eval(target_var):\n",
    "    '''\n",
    "    This function takes in the target var name (string), and returns a plot\n",
    "    of the values of train for that variable, validate, and the predicted values from yhat_df. \n",
    "    it will als lable the rmse. \n",
    "    '''\n",
    "    plt.figure(figsize = (12,4))\n",
    "    plt.plot(train[target_var], label='Train', linewidth=1)\n",
    "    plt.plot(validate[target_var], label='Validate', linewidth=1)\n",
    "    plt.plot(yhat_df[target_var])\n",
    "    plt.title(target_var)\n",
    "    rmse = evaluate(target_var)\n",
    "    print(target_var, '-- RMSE: {:.4f}'.format(rmse))\n",
    "    plt.show()\n",
    "    \n",
    "# function to store the rmse so that we can compare\n",
    "def append_eval_df(model_type, target_var):\n",
    "    '''\n",
    "    this function takes in as arguments the type of model run, and the name of the target variable. \n",
    "    It returns the eval_df with the rmse appended to it for that model and target_var. \n",
    "    '''\n",
    "    rmse = evaluate(target_var)\n",
    "    d = {'model_type': [model_type], 'target_var': [target_var],\n",
    "        'rmse': [rmse]}\n",
    "    d = pd.DataFrame(d)\n",
    "    return eval_df.append(d, ignore_index = True)"
   ]
  },
  {
   "cell_type": "code",
   "execution_count": 159,
   "id": "839eb116",
   "metadata": {},
   "outputs": [
    {
     "data": {
      "text/html": [
       "<div>\n",
       "<style scoped>\n",
       "    .dataframe tbody tr th:only-of-type {\n",
       "        vertical-align: middle;\n",
       "    }\n",
       "\n",
       "    .dataframe tbody tr th {\n",
       "        vertical-align: top;\n",
       "    }\n",
       "\n",
       "    .dataframe thead th {\n",
       "        text-align: right;\n",
       "    }\n",
       "</style>\n",
       "<table border=\"1\" class=\"dataframe\">\n",
       "  <thead>\n",
       "    <tr style=\"text-align: right;\">\n",
       "      <th></th>\n",
       "      <th>model_type</th>\n",
       "      <th>target_var</th>\n",
       "      <th>rmse</th>\n",
       "    </tr>\n",
       "  </thead>\n",
       "  <tbody>\n",
       "  </tbody>\n",
       "</table>\n",
       "</div>"
      ],
      "text/plain": [
       "Empty DataFrame\n",
       "Columns: [model_type, target_var, rmse]\n",
       "Index: []"
      ]
     },
     "execution_count": 159,
     "metadata": {},
     "output_type": "execute_result"
    }
   ],
   "source": [
    "# create an empty dataframe\n",
    "eval_df = pd.DataFrame(columns=['model_type', 'target_var', 'rmse'])\n",
    "eval_df"
   ]
  },
  {
   "cell_type": "code",
   "execution_count": 160,
   "id": "00693c93",
   "metadata": {},
   "outputs": [
    {
     "data": {
      "text/html": [
       "<div>\n",
       "<style scoped>\n",
       "    .dataframe tbody tr th:only-of-type {\n",
       "        vertical-align: middle;\n",
       "    }\n",
       "\n",
       "    .dataframe tbody tr th {\n",
       "        vertical-align: top;\n",
       "    }\n",
       "\n",
       "    .dataframe thead th {\n",
       "        text-align: right;\n",
       "    }\n",
       "</style>\n",
       "<table border=\"1\" class=\"dataframe\">\n",
       "  <thead>\n",
       "    <tr style=\"text-align: right;\">\n",
       "      <th></th>\n",
       "      <th>subscription_type</th>\n",
       "      <th>amount</th>\n",
       "    </tr>\n",
       "    <tr>\n",
       "      <th>month_invoiced</th>\n",
       "      <th></th>\n",
       "      <th></th>\n",
       "    </tr>\n",
       "  </thead>\n",
       "  <tbody>\n",
       "    <tr>\n",
       "      <th>2014-01-31</th>\n",
       "      <td>0.358500</td>\n",
       "      <td>1.792500</td>\n",
       "    </tr>\n",
       "    <tr>\n",
       "      <th>2014-02-28</th>\n",
       "      <td>0.375657</td>\n",
       "      <td>1.878283</td>\n",
       "    </tr>\n",
       "    <tr>\n",
       "      <th>2014-03-31</th>\n",
       "      <td>0.390785</td>\n",
       "      <td>1.953926</td>\n",
       "    </tr>\n",
       "    <tr>\n",
       "      <th>2014-04-30</th>\n",
       "      <td>0.404420</td>\n",
       "      <td>2.022099</td>\n",
       "    </tr>\n",
       "    <tr>\n",
       "      <th>2014-05-31</th>\n",
       "      <td>0.419905</td>\n",
       "      <td>2.099527</td>\n",
       "    </tr>\n",
       "  </tbody>\n",
       "</table>\n",
       "</div>"
      ],
      "text/plain": [
       "                subscription_type    amount\n",
       "month_invoiced                             \n",
       "2014-01-31               0.358500  1.792500\n",
       "2014-02-28               0.375657  1.878283\n",
       "2014-03-31               0.390785  1.953926\n",
       "2014-04-30               0.404420  2.022099\n",
       "2014-05-31               0.419905  2.099527"
      ]
     },
     "execution_count": 160,
     "metadata": {},
     "output_type": "execute_result"
    }
   ],
   "source": [
    "train.head()"
   ]
  },
  {
   "cell_type": "markdown",
   "id": "2b38ee57",
   "metadata": {},
   "source": [
    "### Last Observed Value"
   ]
  },
  {
   "cell_type": "code",
   "execution_count": 161,
   "id": "2e2476a6",
   "metadata": {},
   "outputs": [
    {
     "data": {
      "text/plain": [
       "0.6332062945660192"
      ]
     },
     "execution_count": 161,
     "metadata": {},
     "output_type": "execute_result"
    }
   ],
   "source": [
    "train['subscription_type'][-1:][0]"
   ]
  },
  {
   "cell_type": "code",
   "execution_count": 162,
   "id": "051b1d87",
   "metadata": {},
   "outputs": [
    {
     "data": {
      "text/plain": [
       "0.6332062945660192"
      ]
     },
     "execution_count": 162,
     "metadata": {},
     "output_type": "execute_result"
    }
   ],
   "source": [
    "# Last observed value for subscriptions\n",
    "last_subs = train['subscription_type'][-1:][0]\n",
    "last_subs"
   ]
  },
  {
   "cell_type": "code",
   "execution_count": 163,
   "id": "fc860007",
   "metadata": {},
   "outputs": [
    {
     "data": {
      "text/plain": [
       "3.166031472830096"
      ]
     },
     "execution_count": 163,
     "metadata": {},
     "output_type": "execute_result"
    }
   ],
   "source": [
    "# take the last amount\n",
    "last_amount = train['amount'][-1:][0]\n",
    "last_amount"
   ]
  },
  {
   "cell_type": "code",
   "execution_count": 164,
   "id": "dd06f0bb",
   "metadata": {},
   "outputs": [
    {
     "data": {
      "text/html": [
       "<div>\n",
       "<style scoped>\n",
       "    .dataframe tbody tr th:only-of-type {\n",
       "        vertical-align: middle;\n",
       "    }\n",
       "\n",
       "    .dataframe tbody tr th {\n",
       "        vertical-align: top;\n",
       "    }\n",
       "\n",
       "    .dataframe thead th {\n",
       "        text-align: right;\n",
       "    }\n",
       "</style>\n",
       "<table border=\"1\" class=\"dataframe\">\n",
       "  <thead>\n",
       "    <tr style=\"text-align: right;\">\n",
       "      <th></th>\n",
       "      <th>subscription_type</th>\n",
       "      <th>amount</th>\n",
       "    </tr>\n",
       "    <tr>\n",
       "      <th>month_invoiced</th>\n",
       "      <th></th>\n",
       "      <th></th>\n",
       "    </tr>\n",
       "  </thead>\n",
       "  <tbody>\n",
       "    <tr>\n",
       "      <th>2016-01-31</th>\n",
       "      <td>0.633206</td>\n",
       "      <td>3.166031</td>\n",
       "    </tr>\n",
       "    <tr>\n",
       "      <th>2016-02-29</th>\n",
       "      <td>0.633206</td>\n",
       "      <td>3.166031</td>\n",
       "    </tr>\n",
       "    <tr>\n",
       "      <th>2016-03-31</th>\n",
       "      <td>0.633206</td>\n",
       "      <td>3.166031</td>\n",
       "    </tr>\n",
       "    <tr>\n",
       "      <th>2016-04-30</th>\n",
       "      <td>0.633206</td>\n",
       "      <td>3.166031</td>\n",
       "    </tr>\n",
       "    <tr>\n",
       "      <th>2016-05-31</th>\n",
       "      <td>0.633206</td>\n",
       "      <td>3.166031</td>\n",
       "    </tr>\n",
       "  </tbody>\n",
       "</table>\n",
       "</div>"
      ],
      "text/plain": [
       "                subscription_type    amount\n",
       "month_invoiced                             \n",
       "2016-01-31               0.633206  3.166031\n",
       "2016-02-29               0.633206  3.166031\n",
       "2016-03-31               0.633206  3.166031\n",
       "2016-04-30               0.633206  3.166031\n",
       "2016-05-31               0.633206  3.166031"
      ]
     },
     "execution_count": 164,
     "metadata": {},
     "output_type": "execute_result"
    }
   ],
   "source": [
    "yhat_df = pd.DataFrame(\n",
    "    {'subscription_type': [last_subs],\n",
    "     'amount': [last_amount]},\n",
    "    index=validate.index)\n",
    "\n",
    "yhat_df.head()"
   ]
  },
  {
   "cell_type": "code",
   "execution_count": 165,
   "id": "f59f00c8",
   "metadata": {},
   "outputs": [
    {
     "data": {
      "text/plain": [
       "0.2889"
      ]
     },
     "execution_count": 165,
     "metadata": {},
     "output_type": "execute_result"
    }
   ],
   "source": [
    "round(mean_squared_error(validate['amount'], \n",
    "                                    yhat_df['amount'], \n",
    "                                    squared=False), 4)"
   ]
  },
  {
   "cell_type": "code",
   "execution_count": 166,
   "id": "7da7334e",
   "metadata": {},
   "outputs": [
    {
     "name": "stdout",
     "output_type": "stream",
     "text": [
      "subscription_type -- RMSE: 0.0578\n"
     ]
    },
    {
     "data": {
      "image/png": "[encoded data removed]",
      "text/plain": [
       "<Figure size 1200x400 with 1 Axes>"
      ]
     },
     "metadata": {},
     "output_type": "display_data"
    },
    {
     "name": "stdout",
     "output_type": "stream",
     "text": [
      "amount -- RMSE: 0.2889\n"
     ]
    },
    {
     "data": {
      "image/png": "[encoded data removed]",
      "text/plain": [
       "<Figure size 1200x400 with 1 Axes>"
      ]
     },
     "metadata": {},
     "output_type": "display_data"
    }
   ],
   "source": [
    "for col in train.columns:\n",
    "    plot_and_eval(col)"
   ]
  },
  {
   "cell_type": "code",
   "execution_count": 167,
   "id": "3a1b5d0c",
   "metadata": {},
   "outputs": [
    {
     "name": "stderr",
     "output_type": "stream",
     "text": [
      "/var/folders/49/v6sf5vy165dghytk4qv6jfhc0000gn/T/ipykernel_1228/3504309788.py:38: FutureWarning: The frame.append method is deprecated and will be removed from pandas in a future version. Use pandas.concat instead.\n",
      "  return eval_df.append(d, ignore_index = True)\n",
      "/var/folders/49/v6sf5vy165dghytk4qv6jfhc0000gn/T/ipykernel_1228/3504309788.py:38: FutureWarning: The frame.append method is deprecated and will be removed from pandas in a future version. Use pandas.concat instead.\n",
      "  return eval_df.append(d, ignore_index = True)\n"
     ]
    },
    {
     "data": {
      "text/html": [
       "<div>\n",
       "<style scoped>\n",
       "    .dataframe tbody tr th:only-of-type {\n",
       "        vertical-align: middle;\n",
       "    }\n",
       "\n",
       "    .dataframe tbody tr th {\n",
       "        vertical-align: top;\n",
       "    }\n",
       "\n",
       "    .dataframe thead th {\n",
       "        text-align: right;\n",
       "    }\n",
       "</style>\n",
       "<table border=\"1\" class=\"dataframe\">\n",
       "  <thead>\n",
       "    <tr style=\"text-align: right;\">\n",
       "      <th></th>\n",
       "      <th>model_type</th>\n",
       "      <th>target_var</th>\n",
       "      <th>rmse</th>\n",
       "    </tr>\n",
       "  </thead>\n",
       "  <tbody>\n",
       "    <tr>\n",
       "      <th>0</th>\n",
       "      <td>last_observed_value</td>\n",
       "      <td>subscription_type</td>\n",
       "      <td>0.0578</td>\n",
       "    </tr>\n",
       "    <tr>\n",
       "      <th>1</th>\n",
       "      <td>last_observed_value</td>\n",
       "      <td>amount</td>\n",
       "      <td>0.2889</td>\n",
       "    </tr>\n",
       "  </tbody>\n",
       "</table>\n",
       "</div>"
      ],
      "text/plain": [
       "            model_type         target_var    rmse\n",
       "0  last_observed_value  subscription_type  0.0578\n",
       "1  last_observed_value             amount  0.2889"
      ]
     },
     "execution_count": 167,
     "metadata": {},
     "output_type": "execute_result"
    }
   ],
   "source": [
    "for col in train.columns:\n",
    "    eval_df = append_eval_df(model_type = 'last_observed_value', \n",
    "                             target_var = col)\n",
    "\n",
    "eval_df"
   ]
  },
  {
   "cell_type": "markdown",
   "id": "9ca6836b",
   "metadata": {},
   "source": [
    "### Simple Average"
   ]
  },
  {
   "cell_type": "code",
   "execution_count": 168,
   "id": "feeab8cd",
   "metadata": {},
   "outputs": [
    {
     "data": {
      "text/plain": [
       "0.5116"
      ]
     },
     "execution_count": 168,
     "metadata": {},
     "output_type": "execute_result"
    }
   ],
   "source": [
    "# compute simple average\n",
    "avg_subs = round(train['subscription_type'].mean(), 4)\n",
    "avg_subs"
   ]
  },
  {
   "cell_type": "code",
   "execution_count": 169,
   "id": "3c60d76e",
   "metadata": {},
   "outputs": [
    {
     "data": {
      "text/plain": [
       "2.5582"
      ]
     },
     "execution_count": 169,
     "metadata": {},
     "output_type": "execute_result"
    }
   ],
   "source": [
    "avg_amount = round(train['amount'].mean(), 4)\n",
    "avg_amount"
   ]
  },
  {
   "cell_type": "code",
   "execution_count": 170,
   "id": "dbcc5094",
   "metadata": {},
   "outputs": [],
   "source": [
    "def make_predictions(subs=None, amount=None):\n",
    "    yhat_df = pd.DataFrame({'subscription_type': [subs],\n",
    "                           'amount': [amount]},\n",
    "                          index=validate.index)\n",
    "    return yhat_df"
   ]
  },
  {
   "cell_type": "code",
   "execution_count": 171,
   "id": "bf041a3b",
   "metadata": {},
   "outputs": [],
   "source": [
    "yhat_df = make_predictions(avg_subs, avg_amount)"
   ]
  },
  {
   "cell_type": "code",
   "execution_count": 172,
   "id": "5ba9b9e2",
   "metadata": {},
   "outputs": [
    {
     "name": "stdout",
     "output_type": "stream",
     "text": [
      "subscription_type -- RMSE: 0.1751\n"
     ]
    },
    {
     "data": {
      "image/png": "[encoded data removed]",
      "text/plain": [
       "<Figure size 1200x400 with 1 Axes>"
      ]
     },
     "metadata": {},
     "output_type": "display_data"
    },
    {
     "name": "stdout",
     "output_type": "stream",
     "text": [
      "amount -- RMSE: 0.8752\n"
     ]
    },
    {
     "data": {
      "image/png": "[encoded data removed]",
      "text/plain": [
       "<Figure size 1200x400 with 1 Axes>"
      ]
     },
     "metadata": {},
     "output_type": "display_data"
    }
   ],
   "source": [
    "for col in train.columns:\n",
    "    plot_and_eval(col)"
   ]
  },
  {
   "cell_type": "code",
   "execution_count": 173,
   "id": "b99e9cba",
   "metadata": {},
   "outputs": [
    {
     "name": "stderr",
     "output_type": "stream",
     "text": [
      "/var/folders/49/v6sf5vy165dghytk4qv6jfhc0000gn/T/ipykernel_1228/3504309788.py:38: FutureWarning: The frame.append method is deprecated and will be removed from pandas in a future version. Use pandas.concat instead.\n",
      "  return eval_df.append(d, ignore_index = True)\n",
      "/var/folders/49/v6sf5vy165dghytk4qv6jfhc0000gn/T/ipykernel_1228/3504309788.py:38: FutureWarning: The frame.append method is deprecated and will be removed from pandas in a future version. Use pandas.concat instead.\n",
      "  return eval_df.append(d, ignore_index = True)\n"
     ]
    },
    {
     "data": {
      "text/html": [
       "<div>\n",
       "<style scoped>\n",
       "    .dataframe tbody tr th:only-of-type {\n",
       "        vertical-align: middle;\n",
       "    }\n",
       "\n",
       "    .dataframe tbody tr th {\n",
       "        vertical-align: top;\n",
       "    }\n",
       "\n",
       "    .dataframe thead th {\n",
       "        text-align: right;\n",
       "    }\n",
       "</style>\n",
       "<table border=\"1\" class=\"dataframe\">\n",
       "  <thead>\n",
       "    <tr style=\"text-align: right;\">\n",
       "      <th></th>\n",
       "      <th>model_type</th>\n",
       "      <th>target_var</th>\n",
       "      <th>rmse</th>\n",
       "    </tr>\n",
       "  </thead>\n",
       "  <tbody>\n",
       "    <tr>\n",
       "      <th>0</th>\n",
       "      <td>last_observed_value</td>\n",
       "      <td>subscription_type</td>\n",
       "      <td>0.0578</td>\n",
       "    </tr>\n",
       "    <tr>\n",
       "      <th>1</th>\n",
       "      <td>last_observed_value</td>\n",
       "      <td>amount</td>\n",
       "      <td>0.2889</td>\n",
       "    </tr>\n",
       "    <tr>\n",
       "      <th>2</th>\n",
       "      <td>simple_average</td>\n",
       "      <td>subscription_type</td>\n",
       "      <td>0.1751</td>\n",
       "    </tr>\n",
       "    <tr>\n",
       "      <th>3</th>\n",
       "      <td>simple_average</td>\n",
       "      <td>amount</td>\n",
       "      <td>0.8752</td>\n",
       "    </tr>\n",
       "  </tbody>\n",
       "</table>\n",
       "</div>"
      ],
      "text/plain": [
       "            model_type         target_var    rmse\n",
       "0  last_observed_value  subscription_type  0.0578\n",
       "1  last_observed_value             amount  0.2889\n",
       "2       simple_average  subscription_type  0.1751\n",
       "3       simple_average             amount  0.8752"
      ]
     },
     "execution_count": 173,
     "metadata": {},
     "output_type": "execute_result"
    }
   ],
   "source": [
    "for col in train.columns:\n",
    "    eval_df = append_eval_df(model_type='simple_average', \n",
    "                            target_var = col)\n",
    "eval_df"
   ]
  },
  {
   "cell_type": "markdown",
   "id": "91370ff3",
   "metadata": {},
   "source": [
    "### Rolling Average"
   ]
  },
  {
   "cell_type": "code",
   "execution_count": 174,
   "id": "9ce7661e",
   "metadata": {},
   "outputs": [
    {
     "data": {
      "text/plain": [
       "Rolling [window=30,center=False,axis=0,method=single]"
      ]
     },
     "execution_count": 174,
     "metadata": {},
     "output_type": "execute_result"
    }
   ],
   "source": [
    "train['subscription_type'].rolling(30)"
   ]
  },
  {
   "cell_type": "code",
   "execution_count": 175,
   "id": "723a33b9",
   "metadata": {},
   "outputs": [
    {
     "data": {
      "text/plain": [
       "month_invoiced\n",
       "2014-01-31    0.3585\n",
       "2014-02-28    0.3757\n",
       "2014-03-31    0.3908\n",
       "2014-04-30    0.4044\n",
       "2014-05-31    0.4199\n",
       "2014-06-30    0.4334\n",
       "2014-07-31    0.4474\n",
       "2014-08-31    0.4628\n",
       "2014-09-30    0.4766\n",
       "2014-10-31    0.4901\n",
       "2014-11-30    0.5020\n",
       "2014-12-31    0.5136\n",
       "2015-01-31    0.5266\n",
       "2015-02-28    0.5376\n",
       "2015-03-31    0.5479\n",
       "2015-04-30    0.5589\n",
       "2015-05-31    0.5692\n",
       "2015-06-30    0.5791\n",
       "2015-07-31    0.5912\n",
       "2015-08-31    0.6005\n",
       "2015-09-30    0.6117\n",
       "2015-10-31    0.6225\n",
       "2015-11-30    0.6256\n",
       "2015-12-31    0.6332\n",
       "Freq: M, Name: subscription_type, dtype: float64"
      ]
     },
     "execution_count": 175,
     "metadata": {},
     "output_type": "execute_result"
    }
   ],
   "source": [
    "round(train['subscription_type'].rolling(1).mean(), 4)"
   ]
  },
  {
   "cell_type": "code",
   "execution_count": 176,
   "id": "342492f6",
   "metadata": {},
   "outputs": [
    {
     "name": "stderr",
     "output_type": "stream",
     "text": [
      "/var/folders/49/v6sf5vy165dghytk4qv6jfhc0000gn/T/ipykernel_1228/3504309788.py:38: FutureWarning: The frame.append method is deprecated and will be removed from pandas in a future version. Use pandas.concat instead.\n",
      "  return eval_df.append(d, ignore_index = True)\n",
      "/var/folders/49/v6sf5vy165dghytk4qv6jfhc0000gn/T/ipykernel_1228/3504309788.py:38: FutureWarning: The frame.append method is deprecated and will be removed from pandas in a future version. Use pandas.concat instead.\n",
      "  return eval_df.append(d, ignore_index = True)\n",
      "/var/folders/49/v6sf5vy165dghytk4qv6jfhc0000gn/T/ipykernel_1228/3504309788.py:38: FutureWarning: The frame.append method is deprecated and will be removed from pandas in a future version. Use pandas.concat instead.\n",
      "  return eval_df.append(d, ignore_index = True)\n",
      "/var/folders/49/v6sf5vy165dghytk4qv6jfhc0000gn/T/ipykernel_1228/3504309788.py:38: FutureWarning: The frame.append method is deprecated and will be removed from pandas in a future version. Use pandas.concat instead.\n",
      "  return eval_df.append(d, ignore_index = True)\n",
      "/var/folders/49/v6sf5vy165dghytk4qv6jfhc0000gn/T/ipykernel_1228/3504309788.py:38: FutureWarning: The frame.append method is deprecated and will be removed from pandas in a future version. Use pandas.concat instead.\n",
      "  return eval_df.append(d, ignore_index = True)\n",
      "/var/folders/49/v6sf5vy165dghytk4qv6jfhc0000gn/T/ipykernel_1228/3504309788.py:38: FutureWarning: The frame.append method is deprecated and will be removed from pandas in a future version. Use pandas.concat instead.\n",
      "  return eval_df.append(d, ignore_index = True)\n",
      "/var/folders/49/v6sf5vy165dghytk4qv6jfhc0000gn/T/ipykernel_1228/3504309788.py:38: FutureWarning: The frame.append method is deprecated and will be removed from pandas in a future version. Use pandas.concat instead.\n",
      "  return eval_df.append(d, ignore_index = True)\n",
      "/var/folders/49/v6sf5vy165dghytk4qv6jfhc0000gn/T/ipykernel_1228/3504309788.py:38: FutureWarning: The frame.append method is deprecated and will be removed from pandas in a future version. Use pandas.concat instead.\n",
      "  return eval_df.append(d, ignore_index = True)\n",
      "/var/folders/49/v6sf5vy165dghytk4qv6jfhc0000gn/T/ipykernel_1228/3504309788.py:38: FutureWarning: The frame.append method is deprecated and will be removed from pandas in a future version. Use pandas.concat instead.\n",
      "  return eval_df.append(d, ignore_index = True)\n",
      "/var/folders/49/v6sf5vy165dghytk4qv6jfhc0000gn/T/ipykernel_1228/3504309788.py:38: FutureWarning: The frame.append method is deprecated and will be removed from pandas in a future version. Use pandas.concat instead.\n",
      "  return eval_df.append(d, ignore_index = True)\n"
     ]
    }
   ],
   "source": [
    "periods = [1, 3, 6, 12, 24] \n",
    "\n",
    "# take 30 day rolling average, since our data is sliced by months, this is one period\n",
    "# then take the last element and that will the one that propogates \n",
    "# forward as our prediction. \n",
    "\n",
    "for p in periods: \n",
    "    rolling_subs = round(train['subscription_type'].rolling(p).mean()[-1], 4)\n",
    "    rolling_amount = round(train['amount'].rolling(p).mean()[-1], 4)\n",
    "    yhat_df = make_predictions(rolling_subs, rolling_amount)\n",
    "    model_type = str(p) + '_month_moving_avg'\n",
    "    for col in train.columns:\n",
    "        eval_df = append_eval_df(model_type = model_type,\n",
    "                                target_var = col)"
   ]
  },
  {
   "cell_type": "code",
   "execution_count": 177,
   "id": "e0d46ace",
   "metadata": {},
   "outputs": [
    {
     "data": {
      "text/html": [
       "<div>\n",
       "<style scoped>\n",
       "    .dataframe tbody tr th:only-of-type {\n",
       "        vertical-align: middle;\n",
       "    }\n",
       "\n",
       "    .dataframe tbody tr th {\n",
       "        vertical-align: top;\n",
       "    }\n",
       "\n",
       "    .dataframe thead th {\n",
       "        text-align: right;\n",
       "    }\n",
       "</style>\n",
       "<table border=\"1\" class=\"dataframe\">\n",
       "  <thead>\n",
       "    <tr style=\"text-align: right;\">\n",
       "      <th></th>\n",
       "      <th>model_type</th>\n",
       "      <th>target_var</th>\n",
       "      <th>rmse</th>\n",
       "    </tr>\n",
       "  </thead>\n",
       "  <tbody>\n",
       "    <tr>\n",
       "      <th>0</th>\n",
       "      <td>last_observed_value</td>\n",
       "      <td>subscription_type</td>\n",
       "      <td>0.0578</td>\n",
       "    </tr>\n",
       "    <tr>\n",
       "      <th>1</th>\n",
       "      <td>last_observed_value</td>\n",
       "      <td>amount</td>\n",
       "      <td>0.2889</td>\n",
       "    </tr>\n",
       "    <tr>\n",
       "      <th>2</th>\n",
       "      <td>simple_average</td>\n",
       "      <td>subscription_type</td>\n",
       "      <td>0.1751</td>\n",
       "    </tr>\n",
       "    <tr>\n",
       "      <th>3</th>\n",
       "      <td>simple_average</td>\n",
       "      <td>amount</td>\n",
       "      <td>0.8752</td>\n",
       "    </tr>\n",
       "    <tr>\n",
       "      <th>4</th>\n",
       "      <td>1_month_moving_avg</td>\n",
       "      <td>subscription_type</td>\n",
       "      <td>0.0578</td>\n",
       "    </tr>\n",
       "    <tr>\n",
       "      <th>5</th>\n",
       "      <td>1_month_moving_avg</td>\n",
       "      <td>amount</td>\n",
       "      <td>0.2890</td>\n",
       "    </tr>\n",
       "    <tr>\n",
       "      <th>6</th>\n",
       "      <td>3_month_moving_avg</td>\n",
       "      <td>subscription_type</td>\n",
       "      <td>0.0633</td>\n",
       "    </tr>\n",
       "    <tr>\n",
       "      <th>7</th>\n",
       "      <td>3_month_moving_avg</td>\n",
       "      <td>amount</td>\n",
       "      <td>0.3164</td>\n",
       "    </tr>\n",
       "    <tr>\n",
       "      <th>8</th>\n",
       "      <td>6_month_moving_avg</td>\n",
       "      <td>subscription_type</td>\n",
       "      <td>0.0753</td>\n",
       "    </tr>\n",
       "    <tr>\n",
       "      <th>9</th>\n",
       "      <td>6_month_moving_avg</td>\n",
       "      <td>amount</td>\n",
       "      <td>0.3765</td>\n",
       "    </tr>\n",
       "    <tr>\n",
       "      <th>10</th>\n",
       "      <td>12_month_moving_avg</td>\n",
       "      <td>subscription_type</td>\n",
       "      <td>0.1043</td>\n",
       "    </tr>\n",
       "    <tr>\n",
       "      <th>11</th>\n",
       "      <td>12_month_moving_avg</td>\n",
       "      <td>amount</td>\n",
       "      <td>0.5218</td>\n",
       "    </tr>\n",
       "    <tr>\n",
       "      <th>12</th>\n",
       "      <td>24_month_moving_avg</td>\n",
       "      <td>subscription_type</td>\n",
       "      <td>0.1751</td>\n",
       "    </tr>\n",
       "    <tr>\n",
       "      <th>13</th>\n",
       "      <td>24_month_moving_avg</td>\n",
       "      <td>amount</td>\n",
       "      <td>0.8752</td>\n",
       "    </tr>\n",
       "  </tbody>\n",
       "</table>\n",
       "</div>"
      ],
      "text/plain": [
       "             model_type         target_var    rmse\n",
       "0   last_observed_value  subscription_type  0.0578\n",
       "1   last_observed_value             amount  0.2889\n",
       "2        simple_average  subscription_type  0.1751\n",
       "3        simple_average             amount  0.8752\n",
       "4    1_month_moving_avg  subscription_type  0.0578\n",
       "5    1_month_moving_avg             amount  0.2890\n",
       "6    3_month_moving_avg  subscription_type  0.0633\n",
       "7    3_month_moving_avg             amount  0.3164\n",
       "8    6_month_moving_avg  subscription_type  0.0753\n",
       "9    6_month_moving_avg             amount  0.3765\n",
       "10  12_month_moving_avg  subscription_type  0.1043\n",
       "11  12_month_moving_avg             amount  0.5218\n",
       "12  24_month_moving_avg  subscription_type  0.1751\n",
       "13  24_month_moving_avg             amount  0.8752"
      ]
     },
     "execution_count": 177,
     "metadata": {},
     "output_type": "execute_result"
    }
   ],
   "source": [
    "eval_df"
   ]
  },
  {
   "cell_type": "markdown",
   "id": "d38d2750",
   "metadata": {},
   "source": [
    "### Holt's linear model"
   ]
  },
  {
   "cell_type": "code",
   "execution_count": 179,
   "id": "51355c9a",
   "metadata": {},
   "outputs": [
    {
     "name": "stderr",
     "output_type": "stream",
     "text": [
      "/var/folders/49/v6sf5vy165dghytk4qv6jfhc0000gn/T/ipykernel_1228/1794298677.py:3: FutureWarning: the 'damped'' keyword is deprecated, use 'damped_trend' instead.\n",
      "  model = Holt(train[col], exponential=False, damped=True)\n",
      "/var/folders/49/v6sf5vy165dghytk4qv6jfhc0000gn/T/ipykernel_1228/1794298677.py:3: FutureWarning: the 'damped'' keyword is deprecated, use 'damped_trend' instead.\n",
      "  model = Holt(train[col], exponential=False, damped=True)\n"
     ]
    }
   ],
   "source": [
    "# doing this in a loop for each column\n",
    "for col in train.columns:\n",
    "    model = Holt(train[col], exponential=False, damped=True)\n",
    "    model = model.fit(optimized=True)\n",
    "    yhat_items = model.predict(start = validate.index[0],\n",
    "                              end = validate.index[-1])\n",
    "    yhat_df[col] = round(yhat_items, 2)"
   ]
  },
  {
   "cell_type": "code",
   "execution_count": 180,
   "id": "a8b9fa0a",
   "metadata": {},
   "outputs": [
    {
     "name": "stderr",
     "output_type": "stream",
     "text": [
      "/var/folders/49/v6sf5vy165dghytk4qv6jfhc0000gn/T/ipykernel_1228/3504309788.py:38: FutureWarning: The frame.append method is deprecated and will be removed from pandas in a future version. Use pandas.concat instead.\n",
      "  return eval_df.append(d, ignore_index = True)\n",
      "/var/folders/49/v6sf5vy165dghytk4qv6jfhc0000gn/T/ipykernel_1228/3504309788.py:38: FutureWarning: The frame.append method is deprecated and will be removed from pandas in a future version. Use pandas.concat instead.\n",
      "  return eval_df.append(d, ignore_index = True)\n"
     ]
    }
   ],
   "source": [
    "for col in train.columns:\n",
    "    eval_df = append_eval_df(model_type = 'holts_optimized', \n",
    "                            target_var = col)"
   ]
  },
  {
   "cell_type": "code",
   "execution_count": 181,
   "id": "7b6351b8",
   "metadata": {},
   "outputs": [
    {
     "data": {
      "text/html": [
       "<div>\n",
       "<style scoped>\n",
       "    .dataframe tbody tr th:only-of-type {\n",
       "        vertical-align: middle;\n",
       "    }\n",
       "\n",
       "    .dataframe tbody tr th {\n",
       "        vertical-align: top;\n",
       "    }\n",
       "\n",
       "    .dataframe thead th {\n",
       "        text-align: right;\n",
       "    }\n",
       "</style>\n",
       "<table border=\"1\" class=\"dataframe\">\n",
       "  <thead>\n",
       "    <tr style=\"text-align: right;\">\n",
       "      <th></th>\n",
       "      <th>model_type</th>\n",
       "      <th>target_var</th>\n",
       "      <th>rmse</th>\n",
       "    </tr>\n",
       "  </thead>\n",
       "  <tbody>\n",
       "    <tr>\n",
       "      <th>0</th>\n",
       "      <td>last_observed_value</td>\n",
       "      <td>subscription_type</td>\n",
       "      <td>0.0578</td>\n",
       "    </tr>\n",
       "    <tr>\n",
       "      <th>1</th>\n",
       "      <td>last_observed_value</td>\n",
       "      <td>amount</td>\n",
       "      <td>0.2889</td>\n",
       "    </tr>\n",
       "    <tr>\n",
       "      <th>2</th>\n",
       "      <td>simple_average</td>\n",
       "      <td>subscription_type</td>\n",
       "      <td>0.1751</td>\n",
       "    </tr>\n",
       "    <tr>\n",
       "      <th>3</th>\n",
       "      <td>simple_average</td>\n",
       "      <td>amount</td>\n",
       "      <td>0.8752</td>\n",
       "    </tr>\n",
       "    <tr>\n",
       "      <th>4</th>\n",
       "      <td>1_month_moving_avg</td>\n",
       "      <td>subscription_type</td>\n",
       "      <td>0.0578</td>\n",
       "    </tr>\n",
       "    <tr>\n",
       "      <th>5</th>\n",
       "      <td>1_month_moving_avg</td>\n",
       "      <td>amount</td>\n",
       "      <td>0.2890</td>\n",
       "    </tr>\n",
       "    <tr>\n",
       "      <th>6</th>\n",
       "      <td>3_month_moving_avg</td>\n",
       "      <td>subscription_type</td>\n",
       "      <td>0.0633</td>\n",
       "    </tr>\n",
       "    <tr>\n",
       "      <th>7</th>\n",
       "      <td>3_month_moving_avg</td>\n",
       "      <td>amount</td>\n",
       "      <td>0.3164</td>\n",
       "    </tr>\n",
       "    <tr>\n",
       "      <th>8</th>\n",
       "      <td>6_month_moving_avg</td>\n",
       "      <td>subscription_type</td>\n",
       "      <td>0.0753</td>\n",
       "    </tr>\n",
       "    <tr>\n",
       "      <th>9</th>\n",
       "      <td>6_month_moving_avg</td>\n",
       "      <td>amount</td>\n",
       "      <td>0.3765</td>\n",
       "    </tr>\n",
       "    <tr>\n",
       "      <th>10</th>\n",
       "      <td>12_month_moving_avg</td>\n",
       "      <td>subscription_type</td>\n",
       "      <td>0.1043</td>\n",
       "    </tr>\n",
       "    <tr>\n",
       "      <th>11</th>\n",
       "      <td>12_month_moving_avg</td>\n",
       "      <td>amount</td>\n",
       "      <td>0.5218</td>\n",
       "    </tr>\n",
       "    <tr>\n",
       "      <th>12</th>\n",
       "      <td>24_month_moving_avg</td>\n",
       "      <td>subscription_type</td>\n",
       "      <td>0.1751</td>\n",
       "    </tr>\n",
       "    <tr>\n",
       "      <th>13</th>\n",
       "      <td>24_month_moving_avg</td>\n",
       "      <td>amount</td>\n",
       "      <td>0.8752</td>\n",
       "    </tr>\n",
       "    <tr>\n",
       "      <th>14</th>\n",
       "      <td>holts_optimized</td>\n",
       "      <td>subscription_type</td>\n",
       "      <td>0.0036</td>\n",
       "    </tr>\n",
       "    <tr>\n",
       "      <th>15</th>\n",
       "      <td>holts_optimized</td>\n",
       "      <td>amount</td>\n",
       "      <td>0.0149</td>\n",
       "    </tr>\n",
       "  </tbody>\n",
       "</table>\n",
       "</div>"
      ],
      "text/plain": [
       "             model_type         target_var    rmse\n",
       "0   last_observed_value  subscription_type  0.0578\n",
       "1   last_observed_value             amount  0.2889\n",
       "2        simple_average  subscription_type  0.1751\n",
       "3        simple_average             amount  0.8752\n",
       "4    1_month_moving_avg  subscription_type  0.0578\n",
       "5    1_month_moving_avg             amount  0.2890\n",
       "6    3_month_moving_avg  subscription_type  0.0633\n",
       "7    3_month_moving_avg             amount  0.3164\n",
       "8    6_month_moving_avg  subscription_type  0.0753\n",
       "9    6_month_moving_avg             amount  0.3765\n",
       "10  12_month_moving_avg  subscription_type  0.1043\n",
       "11  12_month_moving_avg             amount  0.5218\n",
       "12  24_month_moving_avg  subscription_type  0.1751\n",
       "13  24_month_moving_avg             amount  0.8752\n",
       "14      holts_optimized  subscription_type  0.0036\n",
       "15      holts_optimized             amount  0.0149"
      ]
     },
     "execution_count": 181,
     "metadata": {},
     "output_type": "execute_result"
    }
   ],
   "source": [
    "eval_df"
   ]
  }
 ],
 "metadata": {
  "kernelspec": {
   "display_name": "Python 3 (ipykernel)",
   "language": "python",
   "name": "python3"
  },
  "language_info": {
   "codemirror_mode": {
    "name": "ipython",
    "version": 3
   },
   "file_extension": ".py",
   "mimetype": "text/x-python",
   "name": "python",
   "nbconvert_exporter": "python",
   "pygments_lexer": "ipython3",
   "version": "3.9.13"
  }
 },
 "nbformat": 4,
 "nbformat_minor": 5
}
